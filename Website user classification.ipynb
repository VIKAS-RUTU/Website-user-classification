{
 "cells": [
  {
   "cell_type": "markdown",
   "id": "968f6584",
   "metadata": {},
   "source": [
    "# Importing the relevant libraries"
   ]
  },
  {
   "cell_type": "code",
   "execution_count": 1,
   "id": "9316a818",
   "metadata": {},
   "outputs": [],
   "source": [
    "import numpy as np\n",
    "import pandas as pd\n",
    "import matplotlib.pyplot as plt\n",
    "import seaborn as sns"
   ]
  },
  {
   "cell_type": "markdown",
   "id": "df416b8a",
   "metadata": {},
   "source": [
    "# Data Preprocessing"
   ]
  },
  {
   "cell_type": "markdown",
   "id": "f434aead",
   "metadata": {},
   "source": [
    "### Importing the Database"
   ]
  },
  {
   "cell_type": "code",
   "execution_count": 2,
   "id": "2c620a5a",
   "metadata": {},
   "outputs": [
    {
     "data": {
      "text/html": [
       "<div>\n",
       "<style scoped>\n",
       "    .dataframe tbody tr th:only-of-type {\n",
       "        vertical-align: middle;\n",
       "    }\n",
       "\n",
       "    .dataframe tbody tr th {\n",
       "        vertical-align: top;\n",
       "    }\n",
       "\n",
       "    .dataframe thead th {\n",
       "        text-align: right;\n",
       "    }\n",
       "</style>\n",
       "<table border=\"1\" class=\"dataframe\">\n",
       "  <thead>\n",
       "    <tr style=\"text-align: right;\">\n",
       "      <th></th>\n",
       "      <th>student_country</th>\n",
       "      <th>days_on_platform</th>\n",
       "      <th>minutes_watched</th>\n",
       "      <th>courses_started</th>\n",
       "      <th>practice_exams_started</th>\n",
       "      <th>practice_exams_passed</th>\n",
       "      <th>minutes_spent_on_exams</th>\n",
       "      <th>purchased</th>\n",
       "    </tr>\n",
       "  </thead>\n",
       "  <tbody>\n",
       "    <tr>\n",
       "      <th>0</th>\n",
       "      <td>US</td>\n",
       "      <td>288</td>\n",
       "      <td>358.1</td>\n",
       "      <td>1</td>\n",
       "      <td>2</td>\n",
       "      <td>2</td>\n",
       "      <td>15.81</td>\n",
       "      <td>0</td>\n",
       "    </tr>\n",
       "    <tr>\n",
       "      <th>1</th>\n",
       "      <td>SG</td>\n",
       "      <td>260</td>\n",
       "      <td>1.7</td>\n",
       "      <td>1</td>\n",
       "      <td>1</td>\n",
       "      <td>0</td>\n",
       "      <td>16.00</td>\n",
       "      <td>0</td>\n",
       "    </tr>\n",
       "    <tr>\n",
       "      <th>2</th>\n",
       "      <td>TR</td>\n",
       "      <td>260</td>\n",
       "      <td>22.4</td>\n",
       "      <td>1</td>\n",
       "      <td>1</td>\n",
       "      <td>0</td>\n",
       "      <td>0.93</td>\n",
       "      <td>0</td>\n",
       "    </tr>\n",
       "    <tr>\n",
       "      <th>3</th>\n",
       "      <td>KE</td>\n",
       "      <td>259</td>\n",
       "      <td>18.8</td>\n",
       "      <td>1</td>\n",
       "      <td>1</td>\n",
       "      <td>1</td>\n",
       "      <td>14.63</td>\n",
       "      <td>0</td>\n",
       "    </tr>\n",
       "    <tr>\n",
       "      <th>4</th>\n",
       "      <td>IN</td>\n",
       "      <td>259</td>\n",
       "      <td>118.0</td>\n",
       "      <td>2</td>\n",
       "      <td>2</td>\n",
       "      <td>1</td>\n",
       "      <td>16.48</td>\n",
       "      <td>0</td>\n",
       "    </tr>\n",
       "  </tbody>\n",
       "</table>\n",
       "</div>"
      ],
      "text/plain": [
       "  student_country  days_on_platform  minutes_watched  courses_started  \\\n",
       "0              US               288            358.1                1   \n",
       "1              SG               260              1.7                1   \n",
       "2              TR               260             22.4                1   \n",
       "3              KE               259             18.8                1   \n",
       "4              IN               259            118.0                2   \n",
       "\n",
       "   practice_exams_started  practice_exams_passed  minutes_spent_on_exams  \\\n",
       "0                       2                      2                   15.81   \n",
       "1                       1                      0                   16.00   \n",
       "2                       1                      0                    0.93   \n",
       "3                       1                      1                   14.63   \n",
       "4                       2                      1                   16.48   \n",
       "\n",
       "   purchased  \n",
       "0          0  \n",
       "1          0  \n",
       "2          0  \n",
       "3          0  \n",
       "4          0  "
      ]
     },
     "execution_count": 2,
     "metadata": {},
     "output_type": "execute_result"
    }
   ],
   "source": [
    "df1 = pd.read_csv(\"ml_datasource.csv\")\n",
    "df2 = df1.copy()\n",
    "df1.head()"
   ]
  },
  {
   "cell_type": "markdown",
   "id": "0e7ab2c7",
   "metadata": {},
   "source": [
    "### Removing Outliers"
   ]
  },
  {
   "cell_type": "code",
   "execution_count": 3,
   "id": "7927c4b1",
   "metadata": {},
   "outputs": [
    {
     "data": {
      "image/png": "[encoded data removed]",
      "text/plain": [
       "<Figure size 864x864 with 6 Axes>"
      ]
     },
     "metadata": {
      "needs_background": "light"
     },
     "output_type": "display_data"
    }
   ],
   "source": [
    "fig, axes = plt.subplots(3,2, figsize=(12,12))\n",
    "\n",
    "x = df2.drop(\"purchased\", axis=1)\n",
    "Num_cols = x.select_dtypes(include=[\"float64\",\"int64\"]).columns\n",
    "\n",
    "for i,j in enumerate(Num_cols):\n",
    "    if i<3:\n",
    "        sns.kdeplot(x[j], ax=axes[i, 0], fill=True)\n",
    "    else:\n",
    "        sns.kdeplot(x[j], ax=axes[i-3, 1], fill=True)\n",
    "    \n",
    "plt.tight_layout()\n",
    "plt.show()"
   ]
  },
  {
   "cell_type": "code",
   "execution_count": 4,
   "id": "ccaf495c-aac0-4288-8840-450e0c4d85fc",
   "metadata": {},
   "outputs": [
    {
     "name": "stdout",
     "output_type": "stream",
     "text": [
      "(17761, 8)\n",
      "==================================================================================================================================================\n"
     ]
    },
    {
     "data": {
      "text/html": [
       "<div>\n",
       "<style scoped>\n",
       "    .dataframe tbody tr th:only-of-type {\n",
       "        vertical-align: middle;\n",
       "    }\n",
       "\n",
       "    .dataframe tbody tr th {\n",
       "        vertical-align: top;\n",
       "    }\n",
       "\n",
       "    .dataframe thead th {\n",
       "        text-align: right;\n",
       "    }\n",
       "</style>\n",
       "<table border=\"1\" class=\"dataframe\">\n",
       "  <thead>\n",
       "    <tr style=\"text-align: right;\">\n",
       "      <th></th>\n",
       "      <th>student_country</th>\n",
       "      <th>days_on_platform</th>\n",
       "      <th>minutes_watched</th>\n",
       "      <th>courses_started</th>\n",
       "      <th>practice_exams_started</th>\n",
       "      <th>practice_exams_passed</th>\n",
       "      <th>minutes_spent_on_exams</th>\n",
       "      <th>purchased</th>\n",
       "    </tr>\n",
       "  </thead>\n",
       "  <tbody>\n",
       "    <tr>\n",
       "      <th>0</th>\n",
       "      <td>US</td>\n",
       "      <td>288</td>\n",
       "      <td>358.1</td>\n",
       "      <td>1</td>\n",
       "      <td>2</td>\n",
       "      <td>2</td>\n",
       "      <td>15.81</td>\n",
       "      <td>0</td>\n",
       "    </tr>\n",
       "    <tr>\n",
       "      <th>1</th>\n",
       "      <td>SG</td>\n",
       "      <td>260</td>\n",
       "      <td>1.7</td>\n",
       "      <td>1</td>\n",
       "      <td>1</td>\n",
       "      <td>0</td>\n",
       "      <td>16.00</td>\n",
       "      <td>0</td>\n",
       "    </tr>\n",
       "    <tr>\n",
       "      <th>2</th>\n",
       "      <td>TR</td>\n",
       "      <td>260</td>\n",
       "      <td>22.4</td>\n",
       "      <td>1</td>\n",
       "      <td>1</td>\n",
       "      <td>0</td>\n",
       "      <td>0.93</td>\n",
       "      <td>0</td>\n",
       "    </tr>\n",
       "    <tr>\n",
       "      <th>3</th>\n",
       "      <td>KE</td>\n",
       "      <td>259</td>\n",
       "      <td>18.8</td>\n",
       "      <td>1</td>\n",
       "      <td>1</td>\n",
       "      <td>1</td>\n",
       "      <td>14.63</td>\n",
       "      <td>0</td>\n",
       "    </tr>\n",
       "    <tr>\n",
       "      <th>4</th>\n",
       "      <td>IN</td>\n",
       "      <td>259</td>\n",
       "      <td>118.0</td>\n",
       "      <td>2</td>\n",
       "      <td>2</td>\n",
       "      <td>1</td>\n",
       "      <td>16.48</td>\n",
       "      <td>0</td>\n",
       "    </tr>\n",
       "    <tr>\n",
       "      <th>...</th>\n",
       "      <td>...</td>\n",
       "      <td>...</td>\n",
       "      <td>...</td>\n",
       "      <td>...</td>\n",
       "      <td>...</td>\n",
       "      <td>...</td>\n",
       "      <td>...</td>\n",
       "      <td>...</td>\n",
       "    </tr>\n",
       "    <tr>\n",
       "      <th>17756</th>\n",
       "      <td>EG</td>\n",
       "      <td>0</td>\n",
       "      <td>0.8</td>\n",
       "      <td>1</td>\n",
       "      <td>0</td>\n",
       "      <td>0</td>\n",
       "      <td>0.00</td>\n",
       "      <td>0</td>\n",
       "    </tr>\n",
       "    <tr>\n",
       "      <th>17757</th>\n",
       "      <td>IN</td>\n",
       "      <td>0</td>\n",
       "      <td>0.1</td>\n",
       "      <td>1</td>\n",
       "      <td>0</td>\n",
       "      <td>0</td>\n",
       "      <td>0.00</td>\n",
       "      <td>0</td>\n",
       "    </tr>\n",
       "    <tr>\n",
       "      <th>17758</th>\n",
       "      <td>CM</td>\n",
       "      <td>0</td>\n",
       "      <td>7.8</td>\n",
       "      <td>1</td>\n",
       "      <td>0</td>\n",
       "      <td>0</td>\n",
       "      <td>0.00</td>\n",
       "      <td>0</td>\n",
       "    </tr>\n",
       "    <tr>\n",
       "      <th>17759</th>\n",
       "      <td>CA</td>\n",
       "      <td>0</td>\n",
       "      <td>10.4</td>\n",
       "      <td>1</td>\n",
       "      <td>0</td>\n",
       "      <td>0</td>\n",
       "      <td>0.00</td>\n",
       "      <td>0</td>\n",
       "    </tr>\n",
       "    <tr>\n",
       "      <th>17760</th>\n",
       "      <td>SA</td>\n",
       "      <td>0</td>\n",
       "      <td>0.1</td>\n",
       "      <td>1</td>\n",
       "      <td>0</td>\n",
       "      <td>0</td>\n",
       "      <td>0.00</td>\n",
       "      <td>0</td>\n",
       "    </tr>\n",
       "  </tbody>\n",
       "</table>\n",
       "<p>17626 rows × 8 columns</p>\n",
       "</div>"
      ],
      "text/plain": [
       "      student_country  days_on_platform  minutes_watched  courses_started  \\\n",
       "0                  US               288            358.1                1   \n",
       "1                  SG               260              1.7                1   \n",
       "2                  TR               260             22.4                1   \n",
       "3                  KE               259             18.8                1   \n",
       "4                  IN               259            118.0                2   \n",
       "...               ...               ...              ...              ...   \n",
       "17756              EG                 0              0.8                1   \n",
       "17757              IN                 0              0.1                1   \n",
       "17758              CM                 0              7.8                1   \n",
       "17759              CA                 0             10.4                1   \n",
       "17760              SA                 0              0.1                1   \n",
       "\n",
       "       practice_exams_started  practice_exams_passed  minutes_spent_on_exams  \\\n",
       "0                           2                      2                   15.81   \n",
       "1                           1                      0                   16.00   \n",
       "2                           1                      0                    0.93   \n",
       "3                           1                      1                   14.63   \n",
       "4                           2                      1                   16.48   \n",
       "...                       ...                    ...                     ...   \n",
       "17756                       0                      0                    0.00   \n",
       "17757                       0                      0                    0.00   \n",
       "17758                       0                      0                    0.00   \n",
       "17759                       0                      0                    0.00   \n",
       "17760                       0                      0                    0.00   \n",
       "\n",
       "       purchased  \n",
       "0              0  \n",
       "1              0  \n",
       "2              0  \n",
       "3              0  \n",
       "4              0  \n",
       "...          ...  \n",
       "17756          0  \n",
       "17757          0  \n",
       "17758          0  \n",
       "17759          0  \n",
       "17760          0  \n",
       "\n",
       "[17626 rows x 8 columns]"
      ]
     },
     "execution_count": 4,
     "metadata": {},
     "output_type": "execute_result"
    }
   ],
   "source": [
    "# Filter\n",
    "\n",
    "# 1) Minutes_watched <= 1000\n",
    "# 2) courses_started <= 10\n",
    "# 3) practice_exams_started <= 10\n",
    "# 4) minutes_spent_on_exams <= 40\n",
    "\n",
    "print(df2.shape)\n",
    "print(\"==================================================================================================================================================\")\n",
    "\n",
    "df3 = df2[(df2['minutes_watched'] <= 1000) & (df2['courses_started'] <= 10) & (df2['practice_exams_started'] <=10) & (df2['minutes_spent_on_exams']<=40) ]\n",
    "df3"
   ]
  },
  {
   "cell_type": "markdown",
   "id": "5b9cc4a7",
   "metadata": {},
   "source": [
    "### Checking for Multicollinearity"
   ]
  },
  {
   "cell_type": "code",
   "execution_count": 5,
   "id": "3bc1e88c",
   "metadata": {},
   "outputs": [
    {
     "data": {
      "text/html": [
       "<div>\n",
       "<style scoped>\n",
       "    .dataframe tbody tr th:only-of-type {\n",
       "        vertical-align: middle;\n",
       "    }\n",
       "\n",
       "    .dataframe tbody tr th {\n",
       "        vertical-align: top;\n",
       "    }\n",
       "\n",
       "    .dataframe thead th {\n",
       "        text-align: right;\n",
       "    }\n",
       "</style>\n",
       "<table border=\"1\" class=\"dataframe\">\n",
       "  <thead>\n",
       "    <tr style=\"text-align: right;\">\n",
       "      <th></th>\n",
       "      <th>days_on_platform</th>\n",
       "      <th>minutes_watched</th>\n",
       "      <th>courses_started</th>\n",
       "      <th>practice_exams_passed</th>\n",
       "      <th>minutes_spent_on_exams</th>\n",
       "      <th>purchased</th>\n",
       "    </tr>\n",
       "  </thead>\n",
       "  <tbody>\n",
       "    <tr>\n",
       "      <th>0</th>\n",
       "      <td>288</td>\n",
       "      <td>358.1</td>\n",
       "      <td>1</td>\n",
       "      <td>2</td>\n",
       "      <td>15.81</td>\n",
       "      <td>0</td>\n",
       "    </tr>\n",
       "    <tr>\n",
       "      <th>1</th>\n",
       "      <td>260</td>\n",
       "      <td>1.7</td>\n",
       "      <td>1</td>\n",
       "      <td>0</td>\n",
       "      <td>16.00</td>\n",
       "      <td>0</td>\n",
       "    </tr>\n",
       "    <tr>\n",
       "      <th>2</th>\n",
       "      <td>260</td>\n",
       "      <td>22.4</td>\n",
       "      <td>1</td>\n",
       "      <td>0</td>\n",
       "      <td>0.93</td>\n",
       "      <td>0</td>\n",
       "    </tr>\n",
       "    <tr>\n",
       "      <th>3</th>\n",
       "      <td>259</td>\n",
       "      <td>18.8</td>\n",
       "      <td>1</td>\n",
       "      <td>1</td>\n",
       "      <td>14.63</td>\n",
       "      <td>0</td>\n",
       "    </tr>\n",
       "    <tr>\n",
       "      <th>4</th>\n",
       "      <td>259</td>\n",
       "      <td>118.0</td>\n",
       "      <td>2</td>\n",
       "      <td>1</td>\n",
       "      <td>16.48</td>\n",
       "      <td>0</td>\n",
       "    </tr>\n",
       "    <tr>\n",
       "      <th>...</th>\n",
       "      <td>...</td>\n",
       "      <td>...</td>\n",
       "      <td>...</td>\n",
       "      <td>...</td>\n",
       "      <td>...</td>\n",
       "      <td>...</td>\n",
       "    </tr>\n",
       "    <tr>\n",
       "      <th>17756</th>\n",
       "      <td>0</td>\n",
       "      <td>0.8</td>\n",
       "      <td>1</td>\n",
       "      <td>0</td>\n",
       "      <td>0.00</td>\n",
       "      <td>0</td>\n",
       "    </tr>\n",
       "    <tr>\n",
       "      <th>17757</th>\n",
       "      <td>0</td>\n",
       "      <td>0.1</td>\n",
       "      <td>1</td>\n",
       "      <td>0</td>\n",
       "      <td>0.00</td>\n",
       "      <td>0</td>\n",
       "    </tr>\n",
       "    <tr>\n",
       "      <th>17758</th>\n",
       "      <td>0</td>\n",
       "      <td>7.8</td>\n",
       "      <td>1</td>\n",
       "      <td>0</td>\n",
       "      <td>0.00</td>\n",
       "      <td>0</td>\n",
       "    </tr>\n",
       "    <tr>\n",
       "      <th>17759</th>\n",
       "      <td>0</td>\n",
       "      <td>10.4</td>\n",
       "      <td>1</td>\n",
       "      <td>0</td>\n",
       "      <td>0.00</td>\n",
       "      <td>0</td>\n",
       "    </tr>\n",
       "    <tr>\n",
       "      <th>17760</th>\n",
       "      <td>0</td>\n",
       "      <td>0.1</td>\n",
       "      <td>1</td>\n",
       "      <td>0</td>\n",
       "      <td>0.00</td>\n",
       "      <td>0</td>\n",
       "    </tr>\n",
       "  </tbody>\n",
       "</table>\n",
       "<p>17626 rows × 6 columns</p>\n",
       "</div>"
      ],
      "text/plain": [
       "       days_on_platform  minutes_watched  courses_started  \\\n",
       "0                   288            358.1                1   \n",
       "1                   260              1.7                1   \n",
       "2                   260             22.4                1   \n",
       "3                   259             18.8                1   \n",
       "4                   259            118.0                2   \n",
       "...                 ...              ...              ...   \n",
       "17756                 0              0.8                1   \n",
       "17757                 0              0.1                1   \n",
       "17758                 0              7.8                1   \n",
       "17759                 0             10.4                1   \n",
       "17760                 0              0.1                1   \n",
       "\n",
       "       practice_exams_passed  minutes_spent_on_exams  purchased  \n",
       "0                          2                   15.81          0  \n",
       "1                          0                   16.00          0  \n",
       "2                          0                    0.93          0  \n",
       "3                          1                   14.63          0  \n",
       "4                          1                   16.48          0  \n",
       "...                      ...                     ...        ...  \n",
       "17756                      0                    0.00          0  \n",
       "17757                      0                    0.00          0  \n",
       "17758                      0                    0.00          0  \n",
       "17759                      0                    0.00          0  \n",
       "17760                      0                    0.00          0  \n",
       "\n",
       "[17626 rows x 6 columns]"
      ]
     },
     "execution_count": 5,
     "metadata": {},
     "output_type": "execute_result"
    }
   ],
   "source": [
    "# Multicollinearity factor (VIF) determines the correlation of columns with one another\n",
    "\n",
    "from statsmodels.stats.outliers_influence import variance_inflation_factor\n",
    "\n",
    "mul_data = df3.drop(\"student_country\", axis=1)\n",
    "cat_col = df3[\"student_country\"]\n",
    "removed_column = []\n",
    "\n",
    "def calculate_vif(data):\n",
    "    vif_data = pd.DataFrame()\n",
    "    vif_data['variable'] = data.columns\n",
    "    vif_data['VIF'] = [variance_inflation_factor(data.values,i) for i in range(data.shape[1])]\n",
    "    \n",
    "    while vif_data['VIF'].max() > 5:\n",
    "        remove_column = vif_data['variable'].loc[vif_data['VIF'].idxmax()]\n",
    "        data = data.drop(remove_column, axis=1)\n",
    "        vif_data = pd.DataFrame()\n",
    "        vif_data['variable'] = data.columns\n",
    "        vif_data['VIF'] = [variance_inflation_factor(data.values,i) for i in range(data.shape[1])]\n",
    "        removed_column.append(remove_column)\n",
    "        \n",
    "    return data\n",
    "\n",
    "calculate_vif(mul_data)"
   ]
  },
  {
   "cell_type": "code",
   "execution_count": 6,
   "id": "27bcbc1c-2497-4ab1-af35-b45333f96760",
   "metadata": {},
   "outputs": [
    {
     "name": "stdout",
     "output_type": "stream",
     "text": [
      "2.492125436190309\n",
      "1.8137591531608466\n",
      "3.4983037829786054\n",
      "2.569372651916071\n",
      "2.616566478485366\n",
      "1.2284745734864655\n"
     ]
    }
   ],
   "source": [
    "x = calculate_vif(mul_data)\n",
    "\n",
    "for i in range(x.shape[1]):\n",
    "    print(variance_inflation_factor(x.values,i))"
   ]
  },
  {
   "cell_type": "code",
   "execution_count": 7,
   "id": "43ee5ede-30c3-4f4f-a293-0753e1098566",
   "metadata": {},
   "outputs": [
    {
     "data": {
      "text/html": [
       "<div>\n",
       "<style scoped>\n",
       "    .dataframe tbody tr th:only-of-type {\n",
       "        vertical-align: middle;\n",
       "    }\n",
       "\n",
       "    .dataframe tbody tr th {\n",
       "        vertical-align: top;\n",
       "    }\n",
       "\n",
       "    .dataframe thead th {\n",
       "        text-align: right;\n",
       "    }\n",
       "</style>\n",
       "<table border=\"1\" class=\"dataframe\">\n",
       "  <thead>\n",
       "    <tr style=\"text-align: right;\">\n",
       "      <th></th>\n",
       "      <th>student_country</th>\n",
       "      <th>days_on_platform</th>\n",
       "      <th>minutes_watched</th>\n",
       "      <th>courses_started</th>\n",
       "      <th>practice_exams_passed</th>\n",
       "      <th>minutes_spent_on_exams</th>\n",
       "      <th>purchased</th>\n",
       "    </tr>\n",
       "  </thead>\n",
       "  <tbody>\n",
       "    <tr>\n",
       "      <th>0</th>\n",
       "      <td>US</td>\n",
       "      <td>288</td>\n",
       "      <td>358.1</td>\n",
       "      <td>1</td>\n",
       "      <td>2</td>\n",
       "      <td>15.81</td>\n",
       "      <td>0</td>\n",
       "    </tr>\n",
       "    <tr>\n",
       "      <th>1</th>\n",
       "      <td>SG</td>\n",
       "      <td>260</td>\n",
       "      <td>1.7</td>\n",
       "      <td>1</td>\n",
       "      <td>0</td>\n",
       "      <td>16.00</td>\n",
       "      <td>0</td>\n",
       "    </tr>\n",
       "    <tr>\n",
       "      <th>2</th>\n",
       "      <td>TR</td>\n",
       "      <td>260</td>\n",
       "      <td>22.4</td>\n",
       "      <td>1</td>\n",
       "      <td>0</td>\n",
       "      <td>0.93</td>\n",
       "      <td>0</td>\n",
       "    </tr>\n",
       "  </tbody>\n",
       "</table>\n",
       "</div>"
      ],
      "text/plain": [
       "  student_country  days_on_platform  minutes_watched  courses_started  \\\n",
       "0              US               288            358.1                1   \n",
       "1              SG               260              1.7                1   \n",
       "2              TR               260             22.4                1   \n",
       "\n",
       "   practice_exams_passed  minutes_spent_on_exams  purchased  \n",
       "0                      2                   15.81          0  \n",
       "1                      0                   16.00          0  \n",
       "2                      0                    0.93          0  "
      ]
     },
     "execution_count": 7,
     "metadata": {},
     "output_type": "execute_result"
    }
   ],
   "source": [
    "df4 = pd.concat([cat_col, calculate_vif(mul_data)], axis=1)\n",
    "df4.head(3)"
   ]
  },
  {
   "cell_type": "markdown",
   "id": "39f1e168",
   "metadata": {},
   "source": [
    "### Dealing with NaN Values"
   ]
  },
  {
   "cell_type": "code",
   "execution_count": 8,
   "id": "b21f9c2a",
   "metadata": {},
   "outputs": [
    {
     "data": {
      "text/plain": [
       "student_country           8\n",
       "days_on_platform          0\n",
       "minutes_watched           0\n",
       "courses_started           0\n",
       "practice_exams_passed     0\n",
       "minutes_spent_on_exams    0\n",
       "purchased                 0\n",
       "dtype: int64"
      ]
     },
     "execution_count": 8,
     "metadata": {},
     "output_type": "execute_result"
    }
   ],
   "source": [
    "df4.isnull().sum()"
   ]
  },
  {
   "cell_type": "code",
   "execution_count": 9,
   "id": "9a11fb98-c36c-43ff-9e0e-450c2d9bcb42",
   "metadata": {},
   "outputs": [
    {
     "data": {
      "text/html": [
       "<div>\n",
       "<style scoped>\n",
       "    .dataframe tbody tr th:only-of-type {\n",
       "        vertical-align: middle;\n",
       "    }\n",
       "\n",
       "    .dataframe tbody tr th {\n",
       "        vertical-align: top;\n",
       "    }\n",
       "\n",
       "    .dataframe thead th {\n",
       "        text-align: right;\n",
       "    }\n",
       "</style>\n",
       "<table border=\"1\" class=\"dataframe\">\n",
       "  <thead>\n",
       "    <tr style=\"text-align: right;\">\n",
       "      <th></th>\n",
       "      <th>student_country</th>\n",
       "      <th>days_on_platform</th>\n",
       "      <th>minutes_watched</th>\n",
       "      <th>courses_started</th>\n",
       "      <th>practice_exams_passed</th>\n",
       "      <th>minutes_spent_on_exams</th>\n",
       "      <th>purchased</th>\n",
       "    </tr>\n",
       "  </thead>\n",
       "  <tbody>\n",
       "    <tr>\n",
       "      <th>311</th>\n",
       "      <td>NaN</td>\n",
       "      <td>88</td>\n",
       "      <td>58.1</td>\n",
       "      <td>1</td>\n",
       "      <td>2</td>\n",
       "      <td>11.20</td>\n",
       "      <td>1</td>\n",
       "    </tr>\n",
       "    <tr>\n",
       "      <th>337</th>\n",
       "      <td>NaN</td>\n",
       "      <td>86</td>\n",
       "      <td>43.0</td>\n",
       "      <td>1</td>\n",
       "      <td>2</td>\n",
       "      <td>12.96</td>\n",
       "      <td>0</td>\n",
       "    </tr>\n",
       "    <tr>\n",
       "      <th>556</th>\n",
       "      <td>NaN</td>\n",
       "      <td>121</td>\n",
       "      <td>241.9</td>\n",
       "      <td>2</td>\n",
       "      <td>3</td>\n",
       "      <td>21.29</td>\n",
       "      <td>0</td>\n",
       "    </tr>\n",
       "    <tr>\n",
       "      <th>806</th>\n",
       "      <td>NaN</td>\n",
       "      <td>64</td>\n",
       "      <td>86.4</td>\n",
       "      <td>1</td>\n",
       "      <td>2</td>\n",
       "      <td>4.98</td>\n",
       "      <td>0</td>\n",
       "    </tr>\n",
       "    <tr>\n",
       "      <th>1097</th>\n",
       "      <td>NaN</td>\n",
       "      <td>72</td>\n",
       "      <td>67.5</td>\n",
       "      <td>1</td>\n",
       "      <td>1</td>\n",
       "      <td>6.27</td>\n",
       "      <td>0</td>\n",
       "    </tr>\n",
       "    <tr>\n",
       "      <th>12363</th>\n",
       "      <td>NaN</td>\n",
       "      <td>84</td>\n",
       "      <td>6.2</td>\n",
       "      <td>1</td>\n",
       "      <td>0</td>\n",
       "      <td>0.00</td>\n",
       "      <td>0</td>\n",
       "    </tr>\n",
       "    <tr>\n",
       "      <th>12633</th>\n",
       "      <td>NaN</td>\n",
       "      <td>78</td>\n",
       "      <td>3.0</td>\n",
       "      <td>1</td>\n",
       "      <td>0</td>\n",
       "      <td>0.00</td>\n",
       "      <td>0</td>\n",
       "    </tr>\n",
       "    <tr>\n",
       "      <th>16946</th>\n",
       "      <td>NaN</td>\n",
       "      <td>11</td>\n",
       "      <td>8.2</td>\n",
       "      <td>1</td>\n",
       "      <td>0</td>\n",
       "      <td>0.00</td>\n",
       "      <td>0</td>\n",
       "    </tr>\n",
       "  </tbody>\n",
       "</table>\n",
       "</div>"
      ],
      "text/plain": [
       "      student_country  days_on_platform  minutes_watched  courses_started  \\\n",
       "311               NaN                88             58.1                1   \n",
       "337               NaN                86             43.0                1   \n",
       "556               NaN               121            241.9                2   \n",
       "806               NaN                64             86.4                1   \n",
       "1097              NaN                72             67.5                1   \n",
       "12363             NaN                84              6.2                1   \n",
       "12633             NaN                78              3.0                1   \n",
       "16946             NaN                11              8.2                1   \n",
       "\n",
       "       practice_exams_passed  minutes_spent_on_exams  purchased  \n",
       "311                        2                   11.20          1  \n",
       "337                        2                   12.96          0  \n",
       "556                        3                   21.29          0  \n",
       "806                        2                    4.98          0  \n",
       "1097                       1                    6.27          0  \n",
       "12363                      0                    0.00          0  \n",
       "12633                      0                    0.00          0  \n",
       "16946                      0                    0.00          0  "
      ]
     },
     "execution_count": 9,
     "metadata": {},
     "output_type": "execute_result"
    }
   ],
   "source": [
    "df4[df4['student_country'].isna()]"
   ]
  },
  {
   "cell_type": "code",
   "execution_count": 10,
   "id": "756b934b-9cdb-4dd2-a6b7-6c514eac0c88",
   "metadata": {},
   "outputs": [
    {
     "data": {
      "text/plain": [
       "student_country           0\n",
       "days_on_platform          0\n",
       "minutes_watched           0\n",
       "courses_started           0\n",
       "practice_exams_passed     0\n",
       "minutes_spent_on_exams    0\n",
       "purchased                 0\n",
       "dtype: int64"
      ]
     },
     "execution_count": 10,
     "metadata": {},
     "output_type": "execute_result"
    }
   ],
   "source": [
    "df4.fillna({\"student_country\":\"NAM\"}, inplace=True)\n",
    "df4.isnull().sum()"
   ]
  },
  {
   "cell_type": "markdown",
   "id": "81c7040a",
   "metadata": {},
   "source": [
    "### Splitting the Data"
   ]
  },
  {
   "cell_type": "code",
   "execution_count": 11,
   "id": "17b8b409",
   "metadata": {},
   "outputs": [],
   "source": [
    "x = df4.drop(\"purchased\", axis=1)\n",
    "y = df4[\"purchased\"]\n",
    "\n",
    "from sklearn.model_selection import train_test_split\n",
    "xtrain, xtest, ytrain, ytest = train_test_split(x,y,test_size=0.2, random_state=365)"
   ]
  },
  {
   "cell_type": "code",
   "execution_count": 12,
   "id": "0f3ad5a6-df58-400b-9869-320a940826b3",
   "metadata": {},
   "outputs": [
    {
     "data": {
      "text/html": [
       "<div>\n",
       "<style scoped>\n",
       "    .dataframe tbody tr th:only-of-type {\n",
       "        vertical-align: middle;\n",
       "    }\n",
       "\n",
       "    .dataframe tbody tr th {\n",
       "        vertical-align: top;\n",
       "    }\n",
       "\n",
       "    .dataframe thead th {\n",
       "        text-align: right;\n",
       "    }\n",
       "</style>\n",
       "<table border=\"1\" class=\"dataframe\">\n",
       "  <thead>\n",
       "    <tr style=\"text-align: right;\">\n",
       "      <th></th>\n",
       "      <th>student_country</th>\n",
       "      <th>days_on_platform</th>\n",
       "      <th>minutes_watched</th>\n",
       "      <th>courses_started</th>\n",
       "      <th>practice_exams_passed</th>\n",
       "      <th>minutes_spent_on_exams</th>\n",
       "    </tr>\n",
       "  </thead>\n",
       "  <tbody>\n",
       "    <tr>\n",
       "      <th>14179</th>\n",
       "      <td>IN</td>\n",
       "      <td>58</td>\n",
       "      <td>67.2</td>\n",
       "      <td>1</td>\n",
       "      <td>0</td>\n",
       "      <td>0.0</td>\n",
       "    </tr>\n",
       "    <tr>\n",
       "      <th>14921</th>\n",
       "      <td>US</td>\n",
       "      <td>14</td>\n",
       "      <td>36.9</td>\n",
       "      <td>1</td>\n",
       "      <td>0</td>\n",
       "      <td>0.0</td>\n",
       "    </tr>\n",
       "    <tr>\n",
       "      <th>6175</th>\n",
       "      <td>NL</td>\n",
       "      <td>209</td>\n",
       "      <td>0.8</td>\n",
       "      <td>1</td>\n",
       "      <td>0</td>\n",
       "      <td>0.0</td>\n",
       "    </tr>\n",
       "    <tr>\n",
       "      <th>15134</th>\n",
       "      <td>US</td>\n",
       "      <td>38</td>\n",
       "      <td>1.2</td>\n",
       "      <td>1</td>\n",
       "      <td>0</td>\n",
       "      <td>0.0</td>\n",
       "    </tr>\n",
       "    <tr>\n",
       "      <th>14708</th>\n",
       "      <td>BD</td>\n",
       "      <td>48</td>\n",
       "      <td>65.4</td>\n",
       "      <td>4</td>\n",
       "      <td>0</td>\n",
       "      <td>0.0</td>\n",
       "    </tr>\n",
       "    <tr>\n",
       "      <th>...</th>\n",
       "      <td>...</td>\n",
       "      <td>...</td>\n",
       "      <td>...</td>\n",
       "      <td>...</td>\n",
       "      <td>...</td>\n",
       "      <td>...</td>\n",
       "    </tr>\n",
       "    <tr>\n",
       "      <th>2666</th>\n",
       "      <td>DE</td>\n",
       "      <td>272</td>\n",
       "      <td>12.1</td>\n",
       "      <td>2</td>\n",
       "      <td>0</td>\n",
       "      <td>0.0</td>\n",
       "    </tr>\n",
       "    <tr>\n",
       "      <th>8417</th>\n",
       "      <td>SA</td>\n",
       "      <td>163</td>\n",
       "      <td>28.8</td>\n",
       "      <td>1</td>\n",
       "      <td>0</td>\n",
       "      <td>0.0</td>\n",
       "    </tr>\n",
       "    <tr>\n",
       "      <th>2486</th>\n",
       "      <td>PL</td>\n",
       "      <td>276</td>\n",
       "      <td>7.3</td>\n",
       "      <td>1</td>\n",
       "      <td>0</td>\n",
       "      <td>0.0</td>\n",
       "    </tr>\n",
       "    <tr>\n",
       "      <th>8034</th>\n",
       "      <td>US</td>\n",
       "      <td>171</td>\n",
       "      <td>1.2</td>\n",
       "      <td>1</td>\n",
       "      <td>0</td>\n",
       "      <td>0.0</td>\n",
       "    </tr>\n",
       "    <tr>\n",
       "      <th>14800</th>\n",
       "      <td>AZ</td>\n",
       "      <td>45</td>\n",
       "      <td>3.4</td>\n",
       "      <td>1</td>\n",
       "      <td>0</td>\n",
       "      <td>0.0</td>\n",
       "    </tr>\n",
       "  </tbody>\n",
       "</table>\n",
       "<p>3526 rows × 6 columns</p>\n",
       "</div>"
      ],
      "text/plain": [
       "      student_country  days_on_platform  minutes_watched  courses_started  \\\n",
       "14179              IN                58             67.2                1   \n",
       "14921              US                14             36.9                1   \n",
       "6175               NL               209              0.8                1   \n",
       "15134              US                38              1.2                1   \n",
       "14708              BD                48             65.4                4   \n",
       "...               ...               ...              ...              ...   \n",
       "2666               DE               272             12.1                2   \n",
       "8417               SA               163             28.8                1   \n",
       "2486               PL               276              7.3                1   \n",
       "8034               US               171              1.2                1   \n",
       "14800              AZ                45              3.4                1   \n",
       "\n",
       "       practice_exams_passed  minutes_spent_on_exams  \n",
       "14179                      0                     0.0  \n",
       "14921                      0                     0.0  \n",
       "6175                       0                     0.0  \n",
       "15134                      0                     0.0  \n",
       "14708                      0                     0.0  \n",
       "...                      ...                     ...  \n",
       "2666                       0                     0.0  \n",
       "8417                       0                     0.0  \n",
       "2486                       0                     0.0  \n",
       "8034                       0                     0.0  \n",
       "14800                      0                     0.0  \n",
       "\n",
       "[3526 rows x 6 columns]"
      ]
     },
     "execution_count": 12,
     "metadata": {},
     "output_type": "execute_result"
    }
   ],
   "source": [
    "xtest"
   ]
  },
  {
   "cell_type": "markdown",
   "id": "cf0a722b-3587-4b94-926b-50e7f2ef6c43",
   "metadata": {},
   "source": [
    "### Encoding the Data"
   ]
  },
  {
   "cell_type": "code",
   "execution_count": 13,
   "id": "6c78590f-07ae-4735-9467-db1006dc16f5",
   "metadata": {},
   "outputs": [],
   "source": [
    "from sklearn.preprocessing import OrdinalEncoder\n",
    "\n",
    "enc = OrdinalEncoder(handle_unknown='use_encoded_value', unknown_value=170)\n",
    "\n",
    "xtrain['student_cont_enc'] = enc.fit_transform(xtrain['student_country'].to_numpy().reshape(-1,1))\n",
    "\n",
    "xtest['student_cont_enc'] = enc.transform(xtest['student_country'].to_numpy().reshape(-1,1))\n",
    "\n",
    "xtrain.drop(\"student_country\", axis=1, inplace=True)\n",
    "xtest.drop(\"student_country\", axis=1, inplace=True)"
   ]
  },
  {
   "cell_type": "code",
   "execution_count": 14,
   "id": "d9eb49ec-8a3e-4366-afca-7b62a8845c54",
   "metadata": {},
   "outputs": [
    {
     "data": {
      "text/html": [
       "<div>\n",
       "<style scoped>\n",
       "    .dataframe tbody tr th:only-of-type {\n",
       "        vertical-align: middle;\n",
       "    }\n",
       "\n",
       "    .dataframe tbody tr th {\n",
       "        vertical-align: top;\n",
       "    }\n",
       "\n",
       "    .dataframe thead th {\n",
       "        text-align: right;\n",
       "    }\n",
       "</style>\n",
       "<table border=\"1\" class=\"dataframe\">\n",
       "  <thead>\n",
       "    <tr style=\"text-align: right;\">\n",
       "      <th></th>\n",
       "      <th>days_on_platform</th>\n",
       "      <th>minutes_watched</th>\n",
       "      <th>courses_started</th>\n",
       "      <th>practice_exams_passed</th>\n",
       "      <th>minutes_spent_on_exams</th>\n",
       "      <th>student_cont_enc</th>\n",
       "    </tr>\n",
       "  </thead>\n",
       "  <tbody>\n",
       "    <tr>\n",
       "      <th>3861</th>\n",
       "      <td>249</td>\n",
       "      <td>24.6</td>\n",
       "      <td>1</td>\n",
       "      <td>0</td>\n",
       "      <td>0.0</td>\n",
       "      <td>44.0</td>\n",
       "    </tr>\n",
       "    <tr>\n",
       "      <th>14883</th>\n",
       "      <td>44</td>\n",
       "      <td>0.1</td>\n",
       "      <td>1</td>\n",
       "      <td>0</td>\n",
       "      <td>0.0</td>\n",
       "      <td>154.0</td>\n",
       "    </tr>\n",
       "  </tbody>\n",
       "</table>\n",
       "</div>"
      ],
      "text/plain": [
       "       days_on_platform  minutes_watched  courses_started  \\\n",
       "3861                249             24.6                1   \n",
       "14883                44              0.1                1   \n",
       "\n",
       "       practice_exams_passed  minutes_spent_on_exams  student_cont_enc  \n",
       "3861                       0                     0.0              44.0  \n",
       "14883                      0                     0.0             154.0  "
      ]
     },
     "execution_count": 14,
     "metadata": {},
     "output_type": "execute_result"
    }
   ],
   "source": [
    "xtrain.head(2)"
   ]
  },
  {
   "cell_type": "code",
   "execution_count": 15,
   "id": "29248273-9401-4e2e-b7c7-3ea5b9bbf60f",
   "metadata": {},
   "outputs": [
    {
     "name": "stdout",
     "output_type": "stream",
     "text": [
      "(14100, 6)\n",
      "(3526, 6)\n"
     ]
    }
   ],
   "source": [
    "x_train_array = np.asarray(xtrain, dtype='float')\n",
    "x_test_array = np.asarray(xtest, dtype='float')\n",
    "\n",
    "print(x_train_array.shape)\n",
    "print(x_test_array.shape)"
   ]
  },
  {
   "cell_type": "code",
   "execution_count": 16,
   "id": "b90992e4-2e8e-4c52-9005-be83d1beb7bc",
   "metadata": {},
   "outputs": [
    {
     "name": "stdout",
     "output_type": "stream",
     "text": [
      "(14100,)\n",
      "(3526,)\n"
     ]
    }
   ],
   "source": [
    "y_train_array = np.asarray(ytrain, dtype='int')\n",
    "y_test_array = np.asarray(ytest, dtype='int')\n",
    "\n",
    "print(y_train_array.shape)\n",
    "print(y_test_array.shape)"
   ]
  },
  {
   "cell_type": "code",
   "execution_count": 17,
   "id": "d5064eb9-18e3-4ae9-b6d2-70dc71d1e494",
   "metadata": {},
   "outputs": [
    {
     "data": {
      "text/plain": [
       "days_on_platform          0\n",
       "minutes_watched           0\n",
       "courses_started           0\n",
       "practice_exams_passed     0\n",
       "minutes_spent_on_exams    0\n",
       "student_cont_enc          0\n",
       "dtype: int64"
      ]
     },
     "execution_count": 17,
     "metadata": {},
     "output_type": "execute_result"
    }
   ],
   "source": [
    "xtrain.isnull().sum()"
   ]
  },
  {
   "cell_type": "markdown",
   "id": "ced87b59",
   "metadata": {},
   "source": []
  },
  {
   "cell_type": "markdown",
   "id": "50436b36",
   "metadata": {},
   "source": [
    "# Creating a Logistic Regression Model"
   ]
  },
  {
   "cell_type": "code",
   "execution_count": 18,
   "id": "9f5b27e9-5048-4b59-958f-ed34f34b3535",
   "metadata": {},
   "outputs": [
    {
     "name": "stdout",
     "output_type": "stream",
     "text": [
      "Optimization terminated successfully.\n",
      "         Current function value: 0.150955\n",
      "         Iterations 10\n",
      "                           Logit Regression Results                           \n",
      "==============================================================================\n",
      "Dep. Variable:                      y   No. Observations:                14100\n",
      "Model:                          Logit   Df Residuals:                    14093\n",
      "Method:                           MLE   Df Model:                            6\n",
      "Date:                Fri, 17 Nov 2023   Pseudo R-squ.:                  0.5043\n",
      "Time:                        15:19:51   Log-Likelihood:                -2128.5\n",
      "converged:                       True   LL-Null:                       -4293.5\n",
      "Covariance Type:            nonrobust   LLR p-value:                     0.000\n",
      "==============================================================================\n",
      "                 coef    std err          z      P>|z|      [0.025      0.975]\n",
      "------------------------------------------------------------------------------\n",
      "const         -1.1963      0.118    -10.146      0.000      -1.427      -0.965\n",
      "x1            -0.0635      0.002    -30.500      0.000      -0.068      -0.059\n",
      "x2             0.0126      0.001     17.256      0.000       0.011       0.014\n",
      "x3             0.2643      0.081      3.273      0.001       0.106       0.423\n",
      "x4             0.1921      0.077      2.510      0.012       0.042       0.342\n",
      "x5            -0.0871      0.016     -5.442      0.000      -0.119      -0.056\n",
      "x6             0.0071      0.001      8.957      0.000       0.006       0.009\n",
      "==============================================================================\n",
      "\n",
      "Possibly complete quasi-separation: A fraction 0.40 of observations can be\n",
      "perfectly predicted. This might indicate that there is complete\n",
      "quasi-separation. In this case some parameters will not be identified.\n"
     ]
    }
   ],
   "source": [
    "import statsmodels.api as sm\n",
    "from sklearn.metrics import confusion_matrix\n",
    "\n",
    "x_train_array2 = sm.add_constant(x_train_array)\n",
    "results = sm.Logit(y_train_array, x_train_array2)\n",
    "results2 = results.fit()\n",
    "\n",
    "print(results2.summary())"
   ]
  },
  {
   "cell_type": "code",
   "execution_count": 19,
   "id": "2aca3796-4c2c-41e6-8a0c-7623ca8bd058",
   "metadata": {},
   "outputs": [
    {
     "name": "stdout",
     "output_type": "stream",
     "text": [
      "[[3143   40]\n",
      " [ 160  183]] \n",
      "\n",
      "0.9432785025524674\n"
     ]
    }
   ],
   "source": [
    "# Logistic regression model 1\n",
    "\n",
    "from sklearn.linear_model import LogisticRegression\n",
    "from sklearn.metrics import confusion_matrix, classification_report, accuracy_score\n",
    "\n",
    "lr = LogisticRegression()\n",
    "lr.fit(x_train_array, y_train_array)\n",
    "\n",
    "ypred = lr.predict(x_test_array)\n",
    "cm = confusion_matrix(y_test_array, ypred)\n",
    "print(cm, \"\\n\")\n",
    "\n",
    "print(accuracy_score(y_test_array, ypred))"
   ]
  },
  {
   "cell_type": "code",
   "execution_count": 20,
   "id": "83fea3a0-8532-4bc7-8531-1ce7a85d72d9",
   "metadata": {},
   "outputs": [
    {
     "name": "stdout",
     "output_type": "stream",
     "text": [
      "Optimization terminated successfully.\n",
      "         Current function value: 0.154634\n",
      "         Iterations 10\n",
      "[[3150   33]\n",
      " [ 146  197]] \n",
      "\n",
      "0.9492342597844583\n"
     ]
    }
   ],
   "source": [
    "# Logistic regression model 2\n",
    "\n",
    "lr2 = sm.Logit(y_train_array, x_train_array)\n",
    "lr3 = lr2.fit()\n",
    "\n",
    "ypred = [round(lr3.predict(x_test_array)[i], 0) for i in range(len(y_test_array))]        # predict probability\n",
    "\n",
    "cm = confusion_matrix(y_test_array, ypred)\n",
    "print(cm, \"\\n\")\n",
    "\n",
    "print(accuracy_score(y_test_array, ypred))"
   ]
  },
  {
   "cell_type": "code",
   "execution_count": 35,
   "id": "0747169e-21d5-4863-89b6-8895f70da36c",
   "metadata": {},
   "outputs": [
    {
     "name": "stdout",
     "output_type": "stream",
     "text": [
      "Optimization terminated successfully.\n",
      "         Current function value: 0.154634\n",
      "         Iterations 10\n",
      "[[3150   33]\n",
      " [ 146  197]] \n",
      "\n",
      "0.9492342597844583\n"
     ]
    }
   ],
   "source": [
    "# Logistic regression model 2\n",
    "\n",
    "lr2 = sm.Logit(ytrain, xtrain)\n",
    "lr3 = lr2.fit()\n",
    "\n",
    "ypred = round(lr3.predict(xtest),0)       # predict probability\n",
    "\n",
    "cm = confusion_matrix(y_test_array, ypred)\n",
    "print(cm, \"\\n\")\n",
    "\n",
    "print(accuracy_score(y_test_array, ypred))"
   ]
  },
  {
   "cell_type": "markdown",
   "id": "9d10db71",
   "metadata": {},
   "source": [
    "# Creating a K-Nearest Neighbors Model"
   ]
  },
  {
   "cell_type": "code",
   "execution_count": 21,
   "id": "2352fb3f",
   "metadata": {},
   "outputs": [
    {
     "name": "stdout",
     "output_type": "stream",
     "text": [
      "{'n_neighbors': 19, 'weights': 'distance'}\n"
     ]
    }
   ],
   "source": [
    "from sklearn.model_selection import GridSearchCV\n",
    "from sklearn.neighbors import KNeighborsClassifier\n",
    "\n",
    "para = {\n",
    "    'n_neighbors': np.arange(1,51),\n",
    "    'weights': ['uniform', 'distance']\n",
    "}\n",
    "\n",
    "gscv = GridSearchCV(KNeighborsClassifier(), para, scoring='accuracy')\n",
    "gscv.fit(x_train_array, y_train_array)\n",
    "\n",
    "print(gscv.best_params_)"
   ]
  },
  {
   "cell_type": "code",
   "execution_count": 22,
   "id": "3b43ed1e-b600-438e-89c3-0bc7f7fa964a",
   "metadata": {},
   "outputs": [
    {
     "name": "stdout",
     "output_type": "stream",
     "text": [
      "[[3118   65]\n",
      " [  99  244]] \n",
      "\n",
      "              precision    recall  f1-score   support\n",
      "\n",
      "           0       0.97      0.98      0.97      3183\n",
      "           1       0.79      0.71      0.75       343\n",
      "\n",
      "    accuracy                           0.95      3526\n",
      "   macro avg       0.88      0.85      0.86      3526\n",
      "weighted avg       0.95      0.95      0.95      3526\n",
      " \n",
      "\n",
      "0.9534883720930233\n"
     ]
    }
   ],
   "source": [
    "knn_model = KNeighborsClassifier(**gscv.best_params_).fit(x_train_array, y_train_array)\n",
    "ypred = knn_model.predict(x_test_array)\n",
    "cm = confusion_matrix(y_test_array, ypred)\n",
    "print(cm,\"\\n\")\n",
    "\n",
    "print(classification_report(y_test_array, ypred), \"\\n\")\n",
    "\n",
    "print(accuracy_score(y_test_array, ypred))"
   ]
  },
  {
   "cell_type": "markdown",
   "id": "81aa87a4",
   "metadata": {},
   "source": [
    "# Creating a Support Vector Machines Model"
   ]
  },
  {
   "cell_type": "code",
   "execution_count": 23,
   "id": "01ff8039-71a0-464c-a5ed-0c5d7b6e67de",
   "metadata": {},
   "outputs": [],
   "source": [
    "from sklearn.preprocessing import MinMaxScaler\n",
    "scalar = MinMaxScaler(feature_range=(-1,1))\n",
    "\n",
    "x_train_scaled = scalar.fit_transform(x_train_array)\n",
    "x_test_scaled = scalar.transform(x_test_array)"
   ]
  },
  {
   "cell_type": "code",
   "execution_count": 24,
   "id": "4a392bdb",
   "metadata": {},
   "outputs": [
    {
     "data": {
      "text/plain": [
       "{'C': 10, 'gamma': 'scale', 'kernel': 'poly'}"
      ]
     },
     "execution_count": 24,
     "metadata": {},
     "output_type": "execute_result"
    }
   ],
   "source": [
    "from sklearn.svm import SVC\n",
    "svm_model = SVC()\n",
    "\n",
    "para = {\"gamma\":[\"scale\",\"auto\"],\n",
    "        \"C\":np.arange(1,11),\n",
    "        \"kernel\":[\"linear\", \"poly\", \"rbf\"]\n",
    "       }\n",
    "\n",
    "gscv = GridSearchCV(SVC(), para, scoring=\"accuracy\", cv=5)\n",
    "gscv.fit(x_train_scaled, y_train_array)\n",
    "gscv.best_params_"
   ]
  },
  {
   "cell_type": "code",
   "execution_count": 25,
   "id": "64a81881-8e06-48bf-b1b3-748d64d29ede",
   "metadata": {},
   "outputs": [
    {
     "name": "stdout",
     "output_type": "stream",
     "text": [
      "[[3142   41]\n",
      " [ 112  231]] \n",
      "\n",
      "              precision    recall  f1-score   support\n",
      "\n",
      "           0       0.97      0.99      0.98      3183\n",
      "           1       0.85      0.67      0.75       343\n",
      "\n",
      "    accuracy                           0.96      3526\n",
      "   macro avg       0.91      0.83      0.86      3526\n",
      "weighted avg       0.95      0.96      0.95      3526\n",
      " \n",
      "\n",
      "0.9566080544526375\n"
     ]
    }
   ],
   "source": [
    "best_svm = SVC(**gscv.best_params_)\n",
    "best_svm.fit(x_train_scaled, y_train_array)\n",
    "\n",
    "ypred = best_svm.predict(x_test_scaled)\n",
    "cm = confusion_matrix(y_test_array, ypred)\n",
    "print(cm,\"\\n\")\n",
    "\n",
    "print(classification_report(y_test_array, ypred), \"\\n\")\n",
    "\n",
    "print(accuracy_score(y_test_array, ypred))"
   ]
  },
  {
   "cell_type": "markdown",
   "id": "172bf1f1",
   "metadata": {},
   "source": [
    "# Creating a Decision Trees Model"
   ]
  },
  {
   "cell_type": "code",
   "execution_count": 26,
   "id": "9ff2ec8b-edd6-4080-bb46-772733e86c8a",
   "metadata": {},
   "outputs": [],
   "source": [
    "from sklearn.tree import DecisionTreeClassifier"
   ]
  },
  {
   "cell_type": "code",
   "execution_count": 27,
   "id": "530fbc5c",
   "metadata": {},
   "outputs": [
    {
     "data": {
      "text/plain": [
       "{'ccp_alpha': 0.003}"
      ]
     },
     "execution_count": 27,
     "metadata": {},
     "output_type": "execute_result"
    }
   ],
   "source": [
    "from sklearn.tree import DecisionTreeClassifier, plot_tree\n",
    "import matplotlib.pyplot as plt\n",
    "\n",
    "params = {'ccp_alpha':[0, 0.001, 0.002, 0.003, 0.004, 0.005]}\n",
    "\n",
    "gscv = GridSearchCV(DecisionTreeClassifier(random_state=365), params, scoring='accuracy', cv=5)\n",
    "gscv.fit(x_train_array, y_train_array)\n",
    "DT = gscv.best_estimator_\n",
    "gscv.best_params_"
   ]
  },
  {
   "cell_type": "code",
   "execution_count": 28,
   "id": "a4cedac3-c08e-49ae-9c6e-9e3fa98dc9b8",
   "metadata": {},
   "outputs": [
    {
     "data": {
      "image/png": "[encoded data removed]",
      "text/plain": [
       "<Figure size 720x576 with 1 Axes>"
      ]
     },
     "metadata": {
      "needs_background": "light"
     },
     "output_type": "display_data"
    }
   ],
   "source": [
    "plt.figure(figsize=(10,8))\n",
    "plot_tree(DT, filled=True, feature_names=list(range(x_train_array.shape[1])), class_names=['Class 0', 'Class 1'], rounded=True)\n",
    "plt.show()"
   ]
  },
  {
   "cell_type": "code",
   "execution_count": 29,
   "id": "cf9a2492-e05d-4fe9-8ce5-9d8cde696940",
   "metadata": {},
   "outputs": [
    {
     "name": "stdout",
     "output_type": "stream",
     "text": [
      "[[3125   58]\n",
      " [  91  252]] \n",
      "\n",
      "              precision    recall  f1-score   support\n",
      "\n",
      "           0       0.97      0.98      0.98      3183\n",
      "           1       0.81      0.73      0.77       343\n",
      "\n",
      "    accuracy                           0.96      3526\n",
      "   macro avg       0.89      0.86      0.87      3526\n",
      "weighted avg       0.96      0.96      0.96      3526\n",
      " \n",
      "\n",
      "0.9577424844015882\n"
     ]
    }
   ],
   "source": [
    "best_DT = DecisionTreeClassifier(**gscv.best_params_)\n",
    "best_DT.fit(x_train_array, y_train_array)\n",
    "ypred = best_DT.predict(x_test_array)\n",
    "\n",
    "cm = confusion_matrix(y_test_array, ypred)\n",
    "print(cm,\"\\n\")\n",
    "\n",
    "print(classification_report(y_test_array, ypred), \"\\n\")\n",
    "\n",
    "print(accuracy_score(y_test_array, ypred))"
   ]
  },
  {
   "cell_type": "code",
   "execution_count": 30,
   "id": "18946494-0337-4a10-9d34-0b541ccffcb5",
   "metadata": {},
   "outputs": [
    {
     "data": {
      "text/html": [
       "<div>\n",
       "<style scoped>\n",
       "    .dataframe tbody tr th:only-of-type {\n",
       "        vertical-align: middle;\n",
       "    }\n",
       "\n",
       "    .dataframe tbody tr th {\n",
       "        vertical-align: top;\n",
       "    }\n",
       "\n",
       "    .dataframe thead th {\n",
       "        text-align: right;\n",
       "    }\n",
       "</style>\n",
       "<table border=\"1\" class=\"dataframe\">\n",
       "  <thead>\n",
       "    <tr style=\"text-align: right;\">\n",
       "      <th></th>\n",
       "      <th>days_on_platform</th>\n",
       "      <th>minutes_watched</th>\n",
       "      <th>courses_started</th>\n",
       "      <th>practice_exams_passed</th>\n",
       "      <th>minutes_spent_on_exams</th>\n",
       "      <th>student_cont_enc</th>\n",
       "    </tr>\n",
       "  </thead>\n",
       "  <tbody>\n",
       "    <tr>\n",
       "      <th>3861</th>\n",
       "      <td>249</td>\n",
       "      <td>24.6</td>\n",
       "      <td>1</td>\n",
       "      <td>0</td>\n",
       "      <td>0.00</td>\n",
       "      <td>44.0</td>\n",
       "    </tr>\n",
       "    <tr>\n",
       "      <th>14883</th>\n",
       "      <td>44</td>\n",
       "      <td>0.1</td>\n",
       "      <td>1</td>\n",
       "      <td>0</td>\n",
       "      <td>0.00</td>\n",
       "      <td>154.0</td>\n",
       "    </tr>\n",
       "    <tr>\n",
       "      <th>360</th>\n",
       "      <td>246</td>\n",
       "      <td>0.4</td>\n",
       "      <td>2</td>\n",
       "      <td>0</td>\n",
       "      <td>9.40</td>\n",
       "      <td>119.0</td>\n",
       "    </tr>\n",
       "    <tr>\n",
       "      <th>15726</th>\n",
       "      <td>29</td>\n",
       "      <td>6.3</td>\n",
       "      <td>1</td>\n",
       "      <td>0</td>\n",
       "      <td>0.00</td>\n",
       "      <td>44.0</td>\n",
       "    </tr>\n",
       "    <tr>\n",
       "      <th>472</th>\n",
       "      <td>73</td>\n",
       "      <td>45.4</td>\n",
       "      <td>1</td>\n",
       "      <td>2</td>\n",
       "      <td>3.71</td>\n",
       "      <td>108.0</td>\n",
       "    </tr>\n",
       "    <tr>\n",
       "      <th>...</th>\n",
       "      <td>...</td>\n",
       "      <td>...</td>\n",
       "      <td>...</td>\n",
       "      <td>...</td>\n",
       "      <td>...</td>\n",
       "      <td>...</td>\n",
       "    </tr>\n",
       "    <tr>\n",
       "      <th>8754</th>\n",
       "      <td>155</td>\n",
       "      <td>16.9</td>\n",
       "      <td>1</td>\n",
       "      <td>0</td>\n",
       "      <td>0.00</td>\n",
       "      <td>67.0</td>\n",
       "    </tr>\n",
       "    <tr>\n",
       "      <th>13282</th>\n",
       "      <td>67</td>\n",
       "      <td>1.5</td>\n",
       "      <td>1</td>\n",
       "      <td>0</td>\n",
       "      <td>0.00</td>\n",
       "      <td>67.0</td>\n",
       "    </tr>\n",
       "    <tr>\n",
       "      <th>5030</th>\n",
       "      <td>228</td>\n",
       "      <td>43.4</td>\n",
       "      <td>1</td>\n",
       "      <td>0</td>\n",
       "      <td>0.00</td>\n",
       "      <td>76.0</td>\n",
       "    </tr>\n",
       "    <tr>\n",
       "      <th>2872</th>\n",
       "      <td>268</td>\n",
       "      <td>157.3</td>\n",
       "      <td>3</td>\n",
       "      <td>0</td>\n",
       "      <td>0.00</td>\n",
       "      <td>131.0</td>\n",
       "    </tr>\n",
       "    <tr>\n",
       "      <th>16089</th>\n",
       "      <td>22</td>\n",
       "      <td>0.1</td>\n",
       "      <td>1</td>\n",
       "      <td>0</td>\n",
       "      <td>0.00</td>\n",
       "      <td>12.0</td>\n",
       "    </tr>\n",
       "  </tbody>\n",
       "</table>\n",
       "<p>14100 rows × 6 columns</p>\n",
       "</div>"
      ],
      "text/plain": [
       "       days_on_platform  minutes_watched  courses_started  \\\n",
       "3861                249             24.6                1   \n",
       "14883                44              0.1                1   \n",
       "360                 246              0.4                2   \n",
       "15726                29              6.3                1   \n",
       "472                  73             45.4                1   \n",
       "...                 ...              ...              ...   \n",
       "8754                155             16.9                1   \n",
       "13282                67              1.5                1   \n",
       "5030                228             43.4                1   \n",
       "2872                268            157.3                3   \n",
       "16089                22              0.1                1   \n",
       "\n",
       "       practice_exams_passed  minutes_spent_on_exams  student_cont_enc  \n",
       "3861                       0                    0.00              44.0  \n",
       "14883                      0                    0.00             154.0  \n",
       "360                        0                    9.40             119.0  \n",
       "15726                      0                    0.00              44.0  \n",
       "472                        2                    3.71             108.0  \n",
       "...                      ...                     ...               ...  \n",
       "8754                       0                    0.00              67.0  \n",
       "13282                      0                    0.00              67.0  \n",
       "5030                       0                    0.00              76.0  \n",
       "2872                       0                    0.00             131.0  \n",
       "16089                      0                    0.00              12.0  \n",
       "\n",
       "[14100 rows x 6 columns]"
      ]
     },
     "execution_count": 30,
     "metadata": {},
     "output_type": "execute_result"
    }
   ],
   "source": [
    "xtrain"
   ]
  },
  {
   "cell_type": "code",
   "execution_count": 31,
   "id": "9306a162-4dff-44ca-b296-0d09d55e0e84",
   "metadata": {},
   "outputs": [
    {
     "data": {
      "text/plain": [
       "[('days_on_platform', 0.8781060383751503),\n",
       " ('minutes_watched', 0.1218939616248497),\n",
       " ('courses_started', 0.0),\n",
       " ('practice_exams_passed', 0.0),\n",
       " ('minutes_spent_on_exams', 0.0),\n",
       " ('student_cont_enc', 0.0)]"
      ]
     },
     "execution_count": 31,
     "metadata": {},
     "output_type": "execute_result"
    }
   ],
   "source": [
    "Feat_imp = zip(xtrain.columns,best_DT.feature_importances_)\n",
    "list(Feat_imp)"
   ]
  },
  {
   "cell_type": "markdown",
   "id": "9b95ab9c",
   "metadata": {},
   "source": [
    "# Creating a Random Forests Model"
   ]
  },
  {
   "cell_type": "code",
   "execution_count": 32,
   "id": "f5119482",
   "metadata": {},
   "outputs": [
    {
     "name": "stdout",
     "output_type": "stream",
     "text": [
      "[[3143   40]\n",
      " [ 111  232]] \n",
      "\n",
      "              precision    recall  f1-score   support\n",
      "\n",
      "           0       0.97      0.99      0.98      3183\n",
      "           1       0.85      0.68      0.75       343\n",
      "\n",
      "    accuracy                           0.96      3526\n",
      "   macro avg       0.91      0.83      0.87      3526\n",
      "weighted avg       0.95      0.96      0.95      3526\n",
      " \n",
      "\n",
      "0.9571752694271128\n"
     ]
    }
   ],
   "source": [
    "from sklearn.ensemble import RandomForestClassifier\n",
    "\n",
    "best_rm = RandomForestClassifier(random_state=365, ccp_alpha=0.003)\n",
    "best_rm.fit(x_train_array, y_train_array)\n",
    "\n",
    "ypred = best_rm.predict(x_test_array)\n",
    "\n",
    "cm = confusion_matrix(y_test_array, ypred)\n",
    "print(cm,\"\\n\")\n",
    "\n",
    "print(classification_report(y_test_array, ypred), \"\\n\")\n",
    "\n",
    "print(accuracy_score(y_test_array, ypred))"
   ]
  },
  {
   "cell_type": "code",
   "execution_count": null,
   "id": "d43bfa41-f27b-4298-92d1-c1a3384ff2fe",
   "metadata": {},
   "outputs": [],
   "source": []
  }
 ],
 "metadata": {
  "kernelspec": {
   "display_name": "Python 3 [3.10]",
   "language": "python",
   "name": "python3"
  },
  "language_info": {
   "codemirror_mode": {
    "name": "ipython",
    "version": 3
   },
   "file_extension": ".py",
   "mimetype": "text/x-python",
   "name": "python",
   "nbconvert_exporter": "python",
   "pygments_lexer": "ipython3",
   "version": "3.10.2"
  }
 },
 "nbformat": 4,
 "nbformat_minor": 5
}
